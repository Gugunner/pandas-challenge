{
  "nbformat": 4,
  "nbformat_minor": 0,
  "metadata": {
    "kernelspec": {
      "display_name": "Python 3",
      "language": "python",
      "name": "python3"
    },
    "language_info": {
      "codemirror_mode": {
        "name": "ipython",
        "version": 3
      },
      "file_extension": ".py",
      "mimetype": "text/x-python",
      "name": "python",
      "nbconvert_exporter": "python",
      "pygments_lexer": "ipython3",
      "version": "3.7.6"
    },
    "colab": {
      "name": "HeroesOfPymoli.ipynb",
      "provenance": [],
      "collapsed_sections": [],
      "include_colab_link": true
    }
  },
  "cells": [
    {
      "cell_type": "markdown",
      "metadata": {
        "id": "view-in-github",
        "colab_type": "text"
      },
      "source": [
        "<a href=\"https://colab.research.google.com/github/Gugunner/pandas-challenge/blob/master/HeroesOfPymoli.ipynb\" target=\"_parent\"><img src=\"https://colab.research.google.com/assets/colab-badge.svg\" alt=\"Open In Colab\"/></a>"
      ]
    },
    {
      "cell_type": "markdown",
      "metadata": {
        "id": "lSr0_bP_HHUf",
        "colab_type": "text"
      },
      "source": [
        "# Heroes of Pymoli Homework\n",
        "\n",
        "![Fantasy](http://drive.google.com/uc?export=view&id=1xqJfwaaZJ_warRjU8BX9PVFoz1aXIm5t)\n",
        "\n",
        "Congratulations! After a lot of hard work in the data munging mines, you've landed a job as Lead Analyst for an independent gaming company. You've been assigned the task of analyzing the data for their most recent fantasy game Heroes of Pymoli.\n",
        "\n",
        "Like many others in its genre, the game is free-to-play, but players are encouraged to purchase optional items that enhance their playing experience. As a first task, the company would like you to generate a report that breaks down the game's purchasing data into meaningful insights.\n",
        "\n",
        "## How to read this homework\n",
        "You will find that each task has it's instruction before the code to solve it, at the end and before a new task the solution can be found with a visual data frame representation.\n",
        "\n",
        "At the end of this note book you'll find the observable trends."
      ]
    },
    {
      "cell_type": "code",
      "metadata": {
        "id": "8c8RZcxBHHUg",
        "colab_type": "code",
        "colab": {
          "base_uri": "https://localhost:8080/",
          "height": 34
        },
        "outputId": "dea3f66f-4d95-4780-9265-33b655d4a41f"
      },
      "source": [
        "# Dependencies imports\n",
        "import pandas as pd\n",
        "from google.colab import drive \n",
        "drive.mount('/content/gdrive')"
      ],
      "execution_count": 49,
      "outputs": [
        {
          "output_type": "stream",
          "text": [
            "Drive already mounted at /content/gdrive; to attempt to forcibly remount, call drive.mount(\"/content/gdrive\", force_remount=True).\n"
          ],
          "name": "stdout"
        }
      ]
    },
    {
      "cell_type": "code",
      "metadata": {
        "scrolled": true,
        "id": "ieIlTrwPHHUj",
        "colab_type": "code",
        "colab": {
          "base_uri": "https://localhost:8080/",
          "height": 204
        },
        "outputId": "e2bfddbc-7a03-47ea-f052-3ecbeac630ca"
      },
      "source": [
        "# Checking csv for successfull read\n",
        "csv_path = '/content/gdrive/My Drive/Bootcamp_Data_Analytics/pandas-challenge/HeroesOfPymoli/Resources/purchase_data.csv'\n",
        "purchase_data = pd.read_csv(csv_path)\n",
        "purchase_data.head()"
      ],
      "execution_count": 8,
      "outputs": [
        {
          "output_type": "execute_result",
          "data": {
            "text/html": [
              "<div>\n",
              "<style scoped>\n",
              "    .dataframe tbody tr th:only-of-type {\n",
              "        vertical-align: middle;\n",
              "    }\n",
              "\n",
              "    .dataframe tbody tr th {\n",
              "        vertical-align: top;\n",
              "    }\n",
              "\n",
              "    .dataframe thead th {\n",
              "        text-align: right;\n",
              "    }\n",
              "</style>\n",
              "<table border=\"1\" class=\"dataframe\">\n",
              "  <thead>\n",
              "    <tr style=\"text-align: right;\">\n",
              "      <th></th>\n",
              "      <th>Purchase ID</th>\n",
              "      <th>SN</th>\n",
              "      <th>Age</th>\n",
              "      <th>Gender</th>\n",
              "      <th>Item ID</th>\n",
              "      <th>Item Name</th>\n",
              "      <th>Price</th>\n",
              "    </tr>\n",
              "  </thead>\n",
              "  <tbody>\n",
              "    <tr>\n",
              "      <th>0</th>\n",
              "      <td>0</td>\n",
              "      <td>Lisim78</td>\n",
              "      <td>20</td>\n",
              "      <td>Male</td>\n",
              "      <td>108</td>\n",
              "      <td>Extraction, Quickblade Of Trembling Hands</td>\n",
              "      <td>3.53</td>\n",
              "    </tr>\n",
              "    <tr>\n",
              "      <th>1</th>\n",
              "      <td>1</td>\n",
              "      <td>Lisovynya38</td>\n",
              "      <td>40</td>\n",
              "      <td>Male</td>\n",
              "      <td>143</td>\n",
              "      <td>Frenzied Scimitar</td>\n",
              "      <td>1.56</td>\n",
              "    </tr>\n",
              "    <tr>\n",
              "      <th>2</th>\n",
              "      <td>2</td>\n",
              "      <td>Ithergue48</td>\n",
              "      <td>24</td>\n",
              "      <td>Male</td>\n",
              "      <td>92</td>\n",
              "      <td>Final Critic</td>\n",
              "      <td>4.88</td>\n",
              "    </tr>\n",
              "    <tr>\n",
              "      <th>3</th>\n",
              "      <td>3</td>\n",
              "      <td>Chamassasya86</td>\n",
              "      <td>24</td>\n",
              "      <td>Male</td>\n",
              "      <td>100</td>\n",
              "      <td>Blindscythe</td>\n",
              "      <td>3.27</td>\n",
              "    </tr>\n",
              "    <tr>\n",
              "      <th>4</th>\n",
              "      <td>4</td>\n",
              "      <td>Iskosia90</td>\n",
              "      <td>23</td>\n",
              "      <td>Male</td>\n",
              "      <td>131</td>\n",
              "      <td>Fury</td>\n",
              "      <td>1.44</td>\n",
              "    </tr>\n",
              "  </tbody>\n",
              "</table>\n",
              "</div>"
            ],
            "text/plain": [
              "   Purchase ID             SN  ...                                  Item Name Price\n",
              "0            0        Lisim78  ...  Extraction, Quickblade Of Trembling Hands  3.53\n",
              "1            1    Lisovynya38  ...                          Frenzied Scimitar  1.56\n",
              "2            2     Ithergue48  ...                               Final Critic  4.88\n",
              "3            3  Chamassasya86  ...                                Blindscythe  3.27\n",
              "4            4      Iskosia90  ...                                       Fury  1.44\n",
              "\n",
              "[5 rows x 7 columns]"
            ]
          },
          "metadata": {
            "tags": []
          },
          "execution_count": 8
        }
      ]
    },
    {
      "cell_type": "markdown",
      "metadata": {
        "id": "8t79DavbHHUm",
        "colab_type": "text"
      },
      "source": [
        "### Player Count\n",
        "\n",
        "* Total Number of Players\n",
        "---------------------------------"
      ]
    },
    {
      "cell_type": "code",
      "metadata": {
        "id": "13NLNKsNHHUm",
        "colab_type": "code",
        "colab": {
          "base_uri": "https://localhost:8080/",
          "height": 80
        },
        "outputId": "2d98bd1d-edb4-4ab9-b91f-249c77b0366f"
      },
      "source": [
        "# Number of players\n",
        "number_of_players = len(purchase_data['SN'].value_counts())\n",
        "number_of_players\n",
        "players_df = pd.DataFrame({\n",
        "  'Total Players': [number_of_players]  \n",
        "})\n",
        "players_df"
      ],
      "execution_count": 9,
      "outputs": [
        {
          "output_type": "execute_result",
          "data": {
            "text/html": [
              "<div>\n",
              "<style scoped>\n",
              "    .dataframe tbody tr th:only-of-type {\n",
              "        vertical-align: middle;\n",
              "    }\n",
              "\n",
              "    .dataframe tbody tr th {\n",
              "        vertical-align: top;\n",
              "    }\n",
              "\n",
              "    .dataframe thead th {\n",
              "        text-align: right;\n",
              "    }\n",
              "</style>\n",
              "<table border=\"1\" class=\"dataframe\">\n",
              "  <thead>\n",
              "    <tr style=\"text-align: right;\">\n",
              "      <th></th>\n",
              "      <th>Total Players</th>\n",
              "    </tr>\n",
              "  </thead>\n",
              "  <tbody>\n",
              "    <tr>\n",
              "      <th>0</th>\n",
              "      <td>576</td>\n",
              "    </tr>\n",
              "  </tbody>\n",
              "</table>\n",
              "</div>"
            ],
            "text/plain": [
              "   Total Players\n",
              "0            576"
            ]
          },
          "metadata": {
            "tags": []
          },
          "execution_count": 9
        }
      ]
    },
    {
      "cell_type": "markdown",
      "metadata": {
        "id": "2hiY4jp3HHUo",
        "colab_type": "text"
      },
      "source": [
        "### Result Purchasing Analysis (Total)\n",
        "\n",
        "* Number of Unique Items\n",
        "* Average Purchase Price\n",
        "* Total Number of Purchases\n",
        "* Total Revenue\n",
        "-----------------------------"
      ]
    },
    {
      "cell_type": "code",
      "metadata": {
        "id": "jOC1plIWHHUp",
        "colab_type": "code",
        "colab": {
          "base_uri": "https://localhost:8080/",
          "height": 34
        },
        "outputId": "df5d1f91-9fd8-4053-eab0-dbba82f589f6"
      },
      "source": [
        "# Number of unique items\n",
        "number_of_unique_items = len(purchase_data['Item Name'].unique())\n",
        "number_of_unique_items"
      ],
      "execution_count": 10,
      "outputs": [
        {
          "output_type": "execute_result",
          "data": {
            "text/plain": [
              "179"
            ]
          },
          "metadata": {
            "tags": []
          },
          "execution_count": 10
        }
      ]
    },
    {
      "cell_type": "code",
      "metadata": {
        "id": "NepNq_uTHHUr",
        "colab_type": "code",
        "colab": {
          "base_uri": "https://localhost:8080/",
          "height": 34
        },
        "outputId": "4c3440c7-72a4-4f22-8f7b-5ee3858762f3"
      },
      "source": [
        "# Average purchase price\n",
        "avg_price = round(purchase_data['Price'].mean(),2)\n",
        "avg_price"
      ],
      "execution_count": 11,
      "outputs": [
        {
          "output_type": "execute_result",
          "data": {
            "text/plain": [
              "3.05"
            ]
          },
          "metadata": {
            "tags": []
          },
          "execution_count": 11
        }
      ]
    },
    {
      "cell_type": "code",
      "metadata": {
        "id": "_1VntVdmHHUt",
        "colab_type": "code",
        "colab": {
          "base_uri": "https://localhost:8080/",
          "height": 34
        },
        "outputId": "9bfd1a85-adf8-49a3-bdd4-f5d11dde2142"
      },
      "source": [
        "# Total number of purchases\n",
        "total_purchases = purchase_data['Purchase ID'].count()\n",
        "total_purchases"
      ],
      "execution_count": 12,
      "outputs": [
        {
          "output_type": "execute_result",
          "data": {
            "text/plain": [
              "780"
            ]
          },
          "metadata": {
            "tags": []
          },
          "execution_count": 12
        }
      ]
    },
    {
      "cell_type": "code",
      "metadata": {
        "id": "2Ij3CQ7RHHUw",
        "colab_type": "code",
        "colab": {
          "base_uri": "https://localhost:8080/",
          "height": 34
        },
        "outputId": "d3e17ade-620f-4f84-9c82-e5529a670a3b"
      },
      "source": [
        "# Total revenue \n",
        "total_revenue = purchase_data['Price'].sum()\n",
        "total_revenue"
      ],
      "execution_count": 13,
      "outputs": [
        {
          "output_type": "execute_result",
          "data": {
            "text/plain": [
              "2379.77"
            ]
          },
          "metadata": {
            "tags": []
          },
          "execution_count": 13
        }
      ]
    },
    {
      "cell_type": "code",
      "metadata": {
        "id": "u-e-s1JpHHUy",
        "colab_type": "code",
        "colab": {
          "base_uri": "https://localhost:8080/",
          "height": 80
        },
        "outputId": "898eb8ed-3ee4-4a5f-85fe-b3622ed6800b"
      },
      "source": [
        "pruchase_analysis_total_df = pd.DataFrame({\n",
        "    'Number of Unique Items': [number_of_unique_items],\n",
        "    'Average Price': [avg_price],\n",
        "    'Number of Purchases': [total_purchases],\n",
        "    'Total Revenue': [total_revenue]\n",
        "})\n",
        "pruchase_analysis_total_df['Average Price'] = pruchase_analysis_total_df['Average Price'].map('${:.2f}'.format)\n",
        "pruchase_analysis_total_df['Total Revenue'] = pruchase_analysis_total_df['Total Revenue'].map('${:.2f}'.format)\n",
        "pruchase_analysis_total_df"
      ],
      "execution_count": 14,
      "outputs": [
        {
          "output_type": "execute_result",
          "data": {
            "text/html": [
              "<div>\n",
              "<style scoped>\n",
              "    .dataframe tbody tr th:only-of-type {\n",
              "        vertical-align: middle;\n",
              "    }\n",
              "\n",
              "    .dataframe tbody tr th {\n",
              "        vertical-align: top;\n",
              "    }\n",
              "\n",
              "    .dataframe thead th {\n",
              "        text-align: right;\n",
              "    }\n",
              "</style>\n",
              "<table border=\"1\" class=\"dataframe\">\n",
              "  <thead>\n",
              "    <tr style=\"text-align: right;\">\n",
              "      <th></th>\n",
              "      <th>Number of Unique Items</th>\n",
              "      <th>Average Price</th>\n",
              "      <th>Number of Purchases</th>\n",
              "      <th>Total Revenue</th>\n",
              "    </tr>\n",
              "  </thead>\n",
              "  <tbody>\n",
              "    <tr>\n",
              "      <th>0</th>\n",
              "      <td>179</td>\n",
              "      <td>$3.05</td>\n",
              "      <td>780</td>\n",
              "      <td>$2379.77</td>\n",
              "    </tr>\n",
              "  </tbody>\n",
              "</table>\n",
              "</div>"
            ],
            "text/plain": [
              "   Number of Unique Items Average Price  Number of Purchases Total Revenue\n",
              "0                     179         $3.05                  780      $2379.77"
            ]
          },
          "metadata": {
            "tags": []
          },
          "execution_count": 14
        }
      ]
    },
    {
      "cell_type": "markdown",
      "metadata": {
        "id": "7jIAgyrTHHU0",
        "colab_type": "text"
      },
      "source": [
        "### Result Gender Demographics\n",
        "\n",
        "* Percentage and Count of Male Players\n",
        "* Percentage and Count of Female Players\n",
        "* Percentage and Count of Other / Non-Disclosed\n",
        "-----------"
      ]
    },
    {
      "cell_type": "code",
      "metadata": {
        "id": "-vMq9EFZHHU0",
        "colab_type": "code",
        "colab": {
          "base_uri": "https://localhost:8080/",
          "height": 34
        },
        "outputId": "5dc169c4-f3ae-4e7d-8d23-4d38464cdc7b"
      },
      "source": [
        "# Percentage and Count of Male Players\n",
        "male_players = len(purchase_data.loc[purchase_data['Gender'] == 'Male']['SN'].value_counts())\n",
        "male_players"
      ],
      "execution_count": 15,
      "outputs": [
        {
          "output_type": "execute_result",
          "data": {
            "text/plain": [
              "484"
            ]
          },
          "metadata": {
            "tags": []
          },
          "execution_count": 15
        }
      ]
    },
    {
      "cell_type": "code",
      "metadata": {
        "id": "p-lLbzEUHHU2",
        "colab_type": "code",
        "colab": {
          "base_uri": "https://localhost:8080/",
          "height": 34
        },
        "outputId": "1ed2c7df-4f15-4ca6-b25b-bb20f1c8248a"
      },
      "source": [
        "male_pct = round((male_players/number_of_players)*100, 2)\n",
        "male_pct"
      ],
      "execution_count": 16,
      "outputs": [
        {
          "output_type": "execute_result",
          "data": {
            "text/plain": [
              "84.03"
            ]
          },
          "metadata": {
            "tags": []
          },
          "execution_count": 16
        }
      ]
    },
    {
      "cell_type": "code",
      "metadata": {
        "id": "3P71tbpcHHU4",
        "colab_type": "code",
        "colab": {
          "base_uri": "https://localhost:8080/",
          "height": 34
        },
        "outputId": "2922bd64-af4b-4490-eb09-9f5cfc4f41b7"
      },
      "source": [
        "# Percentage and Count of Female Players\n",
        "female_players = len(purchase_data.loc[purchase_data['Gender'] == 'Female']['SN'].value_counts())\n",
        "female_players"
      ],
      "execution_count": 17,
      "outputs": [
        {
          "output_type": "execute_result",
          "data": {
            "text/plain": [
              "81"
            ]
          },
          "metadata": {
            "tags": []
          },
          "execution_count": 17
        }
      ]
    },
    {
      "cell_type": "code",
      "metadata": {
        "id": "Y46wn3ezHHU7",
        "colab_type": "code",
        "colab": {
          "base_uri": "https://localhost:8080/",
          "height": 34
        },
        "outputId": "f82db32b-e7b2-48dc-8230-c61b87fbd81a"
      },
      "source": [
        "female_pct = round((female_players/number_of_players)*100, 2)\n",
        "female_pct"
      ],
      "execution_count": 18,
      "outputs": [
        {
          "output_type": "execute_result",
          "data": {
            "text/plain": [
              "14.06"
            ]
          },
          "metadata": {
            "tags": []
          },
          "execution_count": 18
        }
      ]
    },
    {
      "cell_type": "code",
      "metadata": {
        "id": "61ImnDSSHHU9",
        "colab_type": "code",
        "colab": {
          "base_uri": "https://localhost:8080/",
          "height": 34
        },
        "outputId": "6af09ed0-15fa-4037-a5c0-76dc55685790"
      },
      "source": [
        "# Percentage and Count of Other/Non-Disclosed\n",
        "other_players = len(purchase_data.loc[purchase_data['Gender'] == 'Other / Non-Disclosed']['SN'].value_counts())\n",
        "other_players"
      ],
      "execution_count": 19,
      "outputs": [
        {
          "output_type": "execute_result",
          "data": {
            "text/plain": [
              "11"
            ]
          },
          "metadata": {
            "tags": []
          },
          "execution_count": 19
        }
      ]
    },
    {
      "cell_type": "code",
      "metadata": {
        "id": "MsV7-s0AHHU-",
        "colab_type": "code",
        "colab": {
          "base_uri": "https://localhost:8080/",
          "height": 34
        },
        "outputId": "f3bb292c-72a2-4a4a-cd4a-6c5abf5d0202"
      },
      "source": [
        "other_pct = round((other_players/number_of_players)*100, 2)\n",
        "other_pct"
      ],
      "execution_count": 20,
      "outputs": [
        {
          "output_type": "execute_result",
          "data": {
            "text/plain": [
              "1.91"
            ]
          },
          "metadata": {
            "tags": []
          },
          "execution_count": 20
        }
      ]
    },
    {
      "cell_type": "code",
      "metadata": {
        "id": "PsTuBwfhHHVA",
        "colab_type": "code",
        "colab": {
          "base_uri": "https://localhost:8080/",
          "height": 142
        },
        "outputId": "fd4beead-45e2-47d4-8b07-f6d4cc940e0c"
      },
      "source": [
        "gender_demo_df = pd.DataFrame([\n",
        "    {\n",
        "        'Gender': 'Male',\n",
        "        'Total Count': male_players,\n",
        "        'Percentage of Players': male_pct\n",
        "    },\n",
        "    {\n",
        "        'Gender': 'Feale',\n",
        "        'Total Count': female_players,\n",
        "        'Percentage of Players': female_pct\n",
        "    },\n",
        "    {\n",
        "        'Gender': 'Others/Non-Disclosed',\n",
        "        'Total Count': other_players,\n",
        "        'Percentage of Players': other_pct\n",
        "    },\n",
        "])\n",
        "gender_demo_df = gender_demo_df.set_index('Gender')\n",
        "gender_demo_df['Percentage of Players'] = gender_demo_df['Percentage of Players'].map('{:.2f}%'.format)\n",
        "gender_demo_df.index.name = None\n",
        "gender_demo_df"
      ],
      "execution_count": 21,
      "outputs": [
        {
          "output_type": "execute_result",
          "data": {
            "text/html": [
              "<div>\n",
              "<style scoped>\n",
              "    .dataframe tbody tr th:only-of-type {\n",
              "        vertical-align: middle;\n",
              "    }\n",
              "\n",
              "    .dataframe tbody tr th {\n",
              "        vertical-align: top;\n",
              "    }\n",
              "\n",
              "    .dataframe thead th {\n",
              "        text-align: right;\n",
              "    }\n",
              "</style>\n",
              "<table border=\"1\" class=\"dataframe\">\n",
              "  <thead>\n",
              "    <tr style=\"text-align: right;\">\n",
              "      <th></th>\n",
              "      <th>Total Count</th>\n",
              "      <th>Percentage of Players</th>\n",
              "    </tr>\n",
              "  </thead>\n",
              "  <tbody>\n",
              "    <tr>\n",
              "      <th>Male</th>\n",
              "      <td>484</td>\n",
              "      <td>84.03%</td>\n",
              "    </tr>\n",
              "    <tr>\n",
              "      <th>Feale</th>\n",
              "      <td>81</td>\n",
              "      <td>14.06%</td>\n",
              "    </tr>\n",
              "    <tr>\n",
              "      <th>Others/Non-Disclosed</th>\n",
              "      <td>11</td>\n",
              "      <td>1.91%</td>\n",
              "    </tr>\n",
              "  </tbody>\n",
              "</table>\n",
              "</div>"
            ],
            "text/plain": [
              "                      Total Count Percentage of Players\n",
              "Male                          484                84.03%\n",
              "Feale                          81                14.06%\n",
              "Others/Non-Disclosed           11                 1.91%"
            ]
          },
          "metadata": {
            "tags": []
          },
          "execution_count": 21
        }
      ]
    },
    {
      "cell_type": "markdown",
      "metadata": {
        "id": "U63AZvDgHHVC",
        "colab_type": "text"
      },
      "source": [
        "### Result Purchasing Analysis (Gender)\n",
        "\n",
        "* The below each broken by gender\n",
        "  * Purchase Count\n",
        "  * Average Purchase Price\n",
        "  * Total Purchase Value\n",
        "  * Average Purchase Total per Person by Gender\n",
        "-------------------"
      ]
    },
    {
      "cell_type": "code",
      "metadata": {
        "id": "2-4cretdHHVC",
        "colab_type": "code",
        "colab": {
          "base_uri": "https://localhost:8080/",
          "height": 204
        },
        "outputId": "4c80e8a0-5664-4292-c6bb-4834206df56d"
      },
      "source": [
        "# New male purchase data frame\n",
        "male_purchase_data = purchase_data.loc[purchase_data['Gender'] == 'Male']\n",
        "male_purchase_data.head()"
      ],
      "execution_count": 22,
      "outputs": [
        {
          "output_type": "execute_result",
          "data": {
            "text/html": [
              "<div>\n",
              "<style scoped>\n",
              "    .dataframe tbody tr th:only-of-type {\n",
              "        vertical-align: middle;\n",
              "    }\n",
              "\n",
              "    .dataframe tbody tr th {\n",
              "        vertical-align: top;\n",
              "    }\n",
              "\n",
              "    .dataframe thead th {\n",
              "        text-align: right;\n",
              "    }\n",
              "</style>\n",
              "<table border=\"1\" class=\"dataframe\">\n",
              "  <thead>\n",
              "    <tr style=\"text-align: right;\">\n",
              "      <th></th>\n",
              "      <th>Purchase ID</th>\n",
              "      <th>SN</th>\n",
              "      <th>Age</th>\n",
              "      <th>Gender</th>\n",
              "      <th>Item ID</th>\n",
              "      <th>Item Name</th>\n",
              "      <th>Price</th>\n",
              "    </tr>\n",
              "  </thead>\n",
              "  <tbody>\n",
              "    <tr>\n",
              "      <th>0</th>\n",
              "      <td>0</td>\n",
              "      <td>Lisim78</td>\n",
              "      <td>20</td>\n",
              "      <td>Male</td>\n",
              "      <td>108</td>\n",
              "      <td>Extraction, Quickblade Of Trembling Hands</td>\n",
              "      <td>3.53</td>\n",
              "    </tr>\n",
              "    <tr>\n",
              "      <th>1</th>\n",
              "      <td>1</td>\n",
              "      <td>Lisovynya38</td>\n",
              "      <td>40</td>\n",
              "      <td>Male</td>\n",
              "      <td>143</td>\n",
              "      <td>Frenzied Scimitar</td>\n",
              "      <td>1.56</td>\n",
              "    </tr>\n",
              "    <tr>\n",
              "      <th>2</th>\n",
              "      <td>2</td>\n",
              "      <td>Ithergue48</td>\n",
              "      <td>24</td>\n",
              "      <td>Male</td>\n",
              "      <td>92</td>\n",
              "      <td>Final Critic</td>\n",
              "      <td>4.88</td>\n",
              "    </tr>\n",
              "    <tr>\n",
              "      <th>3</th>\n",
              "      <td>3</td>\n",
              "      <td>Chamassasya86</td>\n",
              "      <td>24</td>\n",
              "      <td>Male</td>\n",
              "      <td>100</td>\n",
              "      <td>Blindscythe</td>\n",
              "      <td>3.27</td>\n",
              "    </tr>\n",
              "    <tr>\n",
              "      <th>4</th>\n",
              "      <td>4</td>\n",
              "      <td>Iskosia90</td>\n",
              "      <td>23</td>\n",
              "      <td>Male</td>\n",
              "      <td>131</td>\n",
              "      <td>Fury</td>\n",
              "      <td>1.44</td>\n",
              "    </tr>\n",
              "  </tbody>\n",
              "</table>\n",
              "</div>"
            ],
            "text/plain": [
              "   Purchase ID             SN  ...                                  Item Name Price\n",
              "0            0        Lisim78  ...  Extraction, Quickblade Of Trembling Hands  3.53\n",
              "1            1    Lisovynya38  ...                          Frenzied Scimitar  1.56\n",
              "2            2     Ithergue48  ...                               Final Critic  4.88\n",
              "3            3  Chamassasya86  ...                                Blindscythe  3.27\n",
              "4            4      Iskosia90  ...                                       Fury  1.44\n",
              "\n",
              "[5 rows x 7 columns]"
            ]
          },
          "metadata": {
            "tags": []
          },
          "execution_count": 22
        }
      ]
    },
    {
      "cell_type": "code",
      "metadata": {
        "id": "RyqflLGdHHVE",
        "colab_type": "code",
        "colab": {
          "base_uri": "https://localhost:8080/",
          "height": 34
        },
        "outputId": "67c1bfad-24e1-4715-8050-711badb097f1"
      },
      "source": [
        "# Male purchase count\n",
        "male_purchase = len(male_purchase_data)\n",
        "male_purchase"
      ],
      "execution_count": 23,
      "outputs": [
        {
          "output_type": "execute_result",
          "data": {
            "text/plain": [
              "652"
            ]
          },
          "metadata": {
            "tags": []
          },
          "execution_count": 23
        }
      ]
    },
    {
      "cell_type": "code",
      "metadata": {
        "id": "Rw1zy_KCHHVG",
        "colab_type": "code",
        "colab": {
          "base_uri": "https://localhost:8080/",
          "height": 34
        },
        "outputId": "213b1a88-9b55-43a9-a4f9-a44677a2ca71"
      },
      "source": [
        "# Average male purchase price\n",
        "male_mean_price = round(male_purchase_data['Price'].mean(),2)\n",
        "male_mean_price"
      ],
      "execution_count": 24,
      "outputs": [
        {
          "output_type": "execute_result",
          "data": {
            "text/plain": [
              "3.02"
            ]
          },
          "metadata": {
            "tags": []
          },
          "execution_count": 24
        }
      ]
    },
    {
      "cell_type": "code",
      "metadata": {
        "id": "QhQYsG3hHHVI",
        "colab_type": "code",
        "colab": {
          "base_uri": "https://localhost:8080/",
          "height": 34
        },
        "outputId": "fe99b0fb-d152-4188-d490-79ccf28992aa"
      },
      "source": [
        "# Total male purchase \n",
        "male_total_purchase = round(male_purchase_data['Price'].sum(),2)\n",
        "male_total_purchase"
      ],
      "execution_count": 25,
      "outputs": [
        {
          "output_type": "execute_result",
          "data": {
            "text/plain": [
              "1967.64"
            ]
          },
          "metadata": {
            "tags": []
          },
          "execution_count": 25
        }
      ]
    },
    {
      "cell_type": "code",
      "metadata": {
        "id": "Cvev0kXhHHVK",
        "colab_type": "code",
        "colab": {
          "base_uri": "https://localhost:8080/",
          "height": 34
        },
        "outputId": "1285f8d7-941d-4867-bb45-8d70ce8d39f6"
      },
      "source": [
        "# Average purchase total per person by males\n",
        "male_avg_purchase = round(male_total_purchase/male_players,2)\n",
        "male_avg_purchase"
      ],
      "execution_count": 26,
      "outputs": [
        {
          "output_type": "execute_result",
          "data": {
            "text/plain": [
              "4.07"
            ]
          },
          "metadata": {
            "tags": []
          },
          "execution_count": 26
        }
      ]
    },
    {
      "cell_type": "code",
      "metadata": {
        "scrolled": true,
        "id": "8DADLVH5HHVL",
        "colab_type": "code",
        "colab": {
          "base_uri": "https://localhost:8080/",
          "height": 204
        },
        "outputId": "1efedbaa-6a70-4183-af13-fb54918c9b84"
      },
      "source": [
        "# New female purchase data frame\n",
        "female_purchase_data = purchase_data.loc[purchase_data['Gender'] == 'Female']\n",
        "female_purchase_data.head()"
      ],
      "execution_count": 27,
      "outputs": [
        {
          "output_type": "execute_result",
          "data": {
            "text/html": [
              "<div>\n",
              "<style scoped>\n",
              "    .dataframe tbody tr th:only-of-type {\n",
              "        vertical-align: middle;\n",
              "    }\n",
              "\n",
              "    .dataframe tbody tr th {\n",
              "        vertical-align: top;\n",
              "    }\n",
              "\n",
              "    .dataframe thead th {\n",
              "        text-align: right;\n",
              "    }\n",
              "</style>\n",
              "<table border=\"1\" class=\"dataframe\">\n",
              "  <thead>\n",
              "    <tr style=\"text-align: right;\">\n",
              "      <th></th>\n",
              "      <th>Purchase ID</th>\n",
              "      <th>SN</th>\n",
              "      <th>Age</th>\n",
              "      <th>Gender</th>\n",
              "      <th>Item ID</th>\n",
              "      <th>Item Name</th>\n",
              "      <th>Price</th>\n",
              "    </tr>\n",
              "  </thead>\n",
              "  <tbody>\n",
              "    <tr>\n",
              "      <th>15</th>\n",
              "      <td>15</td>\n",
              "      <td>Lisassa64</td>\n",
              "      <td>21</td>\n",
              "      <td>Female</td>\n",
              "      <td>98</td>\n",
              "      <td>Deadline, Voice Of Subtlety</td>\n",
              "      <td>2.89</td>\n",
              "    </tr>\n",
              "    <tr>\n",
              "      <th>18</th>\n",
              "      <td>18</td>\n",
              "      <td>Reunasu60</td>\n",
              "      <td>22</td>\n",
              "      <td>Female</td>\n",
              "      <td>82</td>\n",
              "      <td>Nirvana</td>\n",
              "      <td>4.90</td>\n",
              "    </tr>\n",
              "    <tr>\n",
              "      <th>38</th>\n",
              "      <td>38</td>\n",
              "      <td>Reulae52</td>\n",
              "      <td>10</td>\n",
              "      <td>Female</td>\n",
              "      <td>116</td>\n",
              "      <td>Renewed Skeletal Katana</td>\n",
              "      <td>4.18</td>\n",
              "    </tr>\n",
              "    <tr>\n",
              "      <th>41</th>\n",
              "      <td>41</td>\n",
              "      <td>Assosia88</td>\n",
              "      <td>20</td>\n",
              "      <td>Female</td>\n",
              "      <td>7</td>\n",
              "      <td>Thorn, Satchel of Dark Souls</td>\n",
              "      <td>1.33</td>\n",
              "    </tr>\n",
              "    <tr>\n",
              "      <th>55</th>\n",
              "      <td>55</td>\n",
              "      <td>Phaelap26</td>\n",
              "      <td>25</td>\n",
              "      <td>Female</td>\n",
              "      <td>84</td>\n",
              "      <td>Arcane Gem</td>\n",
              "      <td>3.79</td>\n",
              "    </tr>\n",
              "  </tbody>\n",
              "</table>\n",
              "</div>"
            ],
            "text/plain": [
              "    Purchase ID         SN  Age  ... Item ID                     Item Name Price\n",
              "15           15  Lisassa64   21  ...      98   Deadline, Voice Of Subtlety  2.89\n",
              "18           18  Reunasu60   22  ...      82                       Nirvana  4.90\n",
              "38           38   Reulae52   10  ...     116       Renewed Skeletal Katana  4.18\n",
              "41           41  Assosia88   20  ...       7  Thorn, Satchel of Dark Souls  1.33\n",
              "55           55  Phaelap26   25  ...      84                    Arcane Gem  3.79\n",
              "\n",
              "[5 rows x 7 columns]"
            ]
          },
          "metadata": {
            "tags": []
          },
          "execution_count": 27
        }
      ]
    },
    {
      "cell_type": "code",
      "metadata": {
        "id": "4zg7vO4EHHVN",
        "colab_type": "code",
        "colab": {
          "base_uri": "https://localhost:8080/",
          "height": 34
        },
        "outputId": "d7bc7e67-4792-49df-a31a-db48e2c21cf8"
      },
      "source": [
        "# Female purchase count\n",
        "female_purchase = len(female_purchase_data)\n",
        "female_purchase"
      ],
      "execution_count": 28,
      "outputs": [
        {
          "output_type": "execute_result",
          "data": {
            "text/plain": [
              "113"
            ]
          },
          "metadata": {
            "tags": []
          },
          "execution_count": 28
        }
      ]
    },
    {
      "cell_type": "code",
      "metadata": {
        "id": "2g8q2yBkHHVO",
        "colab_type": "code",
        "colab": {
          "base_uri": "https://localhost:8080/",
          "height": 34
        },
        "outputId": "afa4df1d-b26f-43dc-e787-10f9b2e88776"
      },
      "source": [
        "# Average female purchase price\n",
        "female_mean_price = round(female_purchase_data['Price'].mean(),2)\n",
        "female_mean_price"
      ],
      "execution_count": 29,
      "outputs": [
        {
          "output_type": "execute_result",
          "data": {
            "text/plain": [
              "3.2"
            ]
          },
          "metadata": {
            "tags": []
          },
          "execution_count": 29
        }
      ]
    },
    {
      "cell_type": "code",
      "metadata": {
        "id": "VNnlwF8WHHVQ",
        "colab_type": "code",
        "colab": {
          "base_uri": "https://localhost:8080/",
          "height": 34
        },
        "outputId": "4f474446-4296-4abc-90fa-0d199c153050"
      },
      "source": [
        "# Total female purchase \n",
        "female_total_purchase = round(female_purchase_data['Price'].sum(),2)\n",
        "female_total_purchase"
      ],
      "execution_count": 30,
      "outputs": [
        {
          "output_type": "execute_result",
          "data": {
            "text/plain": [
              "361.94"
            ]
          },
          "metadata": {
            "tags": []
          },
          "execution_count": 30
        }
      ]
    },
    {
      "cell_type": "code",
      "metadata": {
        "scrolled": true,
        "id": "5WbfmoHKHHVS",
        "colab_type": "code",
        "colab": {
          "base_uri": "https://localhost:8080/",
          "height": 34
        },
        "outputId": "486a1ab4-3fe9-4189-e4f2-66238ac50a5d"
      },
      "source": [
        "# Average purchase total per person by females\n",
        "female_avg_purchase = round(female_total_purchase/female_players,2)\n",
        "female_avg_purchase"
      ],
      "execution_count": 31,
      "outputs": [
        {
          "output_type": "execute_result",
          "data": {
            "text/plain": [
              "4.47"
            ]
          },
          "metadata": {
            "tags": []
          },
          "execution_count": 31
        }
      ]
    },
    {
      "cell_type": "code",
      "metadata": {
        "id": "OJPp9ksFHHVT",
        "colab_type": "code",
        "colab": {
          "base_uri": "https://localhost:8080/",
          "height": 204
        },
        "outputId": "6aa30655-2c09-46ab-90ed-e34cea188fe0"
      },
      "source": [
        "# New other/non-disclosed data frame\n",
        "other_purchase_data = purchase_data.loc[purchase_data['Gender'] == 'Other / Non-Disclosed']\n",
        "other_purchase_data.head()"
      ],
      "execution_count": 32,
      "outputs": [
        {
          "output_type": "execute_result",
          "data": {
            "text/html": [
              "<div>\n",
              "<style scoped>\n",
              "    .dataframe tbody tr th:only-of-type {\n",
              "        vertical-align: middle;\n",
              "    }\n",
              "\n",
              "    .dataframe tbody tr th {\n",
              "        vertical-align: top;\n",
              "    }\n",
              "\n",
              "    .dataframe thead th {\n",
              "        text-align: right;\n",
              "    }\n",
              "</style>\n",
              "<table border=\"1\" class=\"dataframe\">\n",
              "  <thead>\n",
              "    <tr style=\"text-align: right;\">\n",
              "      <th></th>\n",
              "      <th>Purchase ID</th>\n",
              "      <th>SN</th>\n",
              "      <th>Age</th>\n",
              "      <th>Gender</th>\n",
              "      <th>Item ID</th>\n",
              "      <th>Item Name</th>\n",
              "      <th>Price</th>\n",
              "    </tr>\n",
              "  </thead>\n",
              "  <tbody>\n",
              "    <tr>\n",
              "      <th>9</th>\n",
              "      <td>9</td>\n",
              "      <td>Chanosian48</td>\n",
              "      <td>35</td>\n",
              "      <td>Other / Non-Disclosed</td>\n",
              "      <td>136</td>\n",
              "      <td>Ghastly Adamantite Protector</td>\n",
              "      <td>3.58</td>\n",
              "    </tr>\n",
              "    <tr>\n",
              "      <th>22</th>\n",
              "      <td>22</td>\n",
              "      <td>Siarithria38</td>\n",
              "      <td>38</td>\n",
              "      <td>Other / Non-Disclosed</td>\n",
              "      <td>24</td>\n",
              "      <td>Warped Fetish</td>\n",
              "      <td>3.81</td>\n",
              "    </tr>\n",
              "    <tr>\n",
              "      <th>82</th>\n",
              "      <td>82</td>\n",
              "      <td>Haerithp41</td>\n",
              "      <td>16</td>\n",
              "      <td>Other / Non-Disclosed</td>\n",
              "      <td>160</td>\n",
              "      <td>Azurewrath</td>\n",
              "      <td>4.40</td>\n",
              "    </tr>\n",
              "    <tr>\n",
              "      <th>111</th>\n",
              "      <td>111</td>\n",
              "      <td>Sundim98</td>\n",
              "      <td>21</td>\n",
              "      <td>Other / Non-Disclosed</td>\n",
              "      <td>41</td>\n",
              "      <td>Orbit</td>\n",
              "      <td>4.75</td>\n",
              "    </tr>\n",
              "    <tr>\n",
              "      <th>228</th>\n",
              "      <td>228</td>\n",
              "      <td>Jiskirran77</td>\n",
              "      <td>20</td>\n",
              "      <td>Other / Non-Disclosed</td>\n",
              "      <td>80</td>\n",
              "      <td>Dreamsong</td>\n",
              "      <td>3.39</td>\n",
              "    </tr>\n",
              "  </tbody>\n",
              "</table>\n",
              "</div>"
            ],
            "text/plain": [
              "     Purchase ID            SN  ...                     Item Name Price\n",
              "9              9   Chanosian48  ...  Ghastly Adamantite Protector  3.58\n",
              "22            22  Siarithria38  ...                 Warped Fetish  3.81\n",
              "82            82    Haerithp41  ...                    Azurewrath  4.40\n",
              "111          111      Sundim98  ...                         Orbit  4.75\n",
              "228          228   Jiskirran77  ...                     Dreamsong  3.39\n",
              "\n",
              "[5 rows x 7 columns]"
            ]
          },
          "metadata": {
            "tags": []
          },
          "execution_count": 32
        }
      ]
    },
    {
      "cell_type": "code",
      "metadata": {
        "id": "7mlN7YlmHHVV",
        "colab_type": "code",
        "colab": {
          "base_uri": "https://localhost:8080/",
          "height": 34
        },
        "outputId": "a93d3489-0982-4712-c01f-d9cd118e065c"
      },
      "source": [
        "# Other purchase count\n",
        "other_purchase = len(other_purchase_data)\n",
        "other_purchase"
      ],
      "execution_count": 33,
      "outputs": [
        {
          "output_type": "execute_result",
          "data": {
            "text/plain": [
              "15"
            ]
          },
          "metadata": {
            "tags": []
          },
          "execution_count": 33
        }
      ]
    },
    {
      "cell_type": "code",
      "metadata": {
        "id": "ORo7_aCfHHVY",
        "colab_type": "code",
        "colab": {
          "base_uri": "https://localhost:8080/",
          "height": 34
        },
        "outputId": "f955c789-5df8-4d12-df59-bfb486145962"
      },
      "source": [
        "# Average other purchase price\n",
        "other_mean_price = round(other_purchase_data['Price'].mean(),2)\n",
        "other_mean_price"
      ],
      "execution_count": 34,
      "outputs": [
        {
          "output_type": "execute_result",
          "data": {
            "text/plain": [
              "3.35"
            ]
          },
          "metadata": {
            "tags": []
          },
          "execution_count": 34
        }
      ]
    },
    {
      "cell_type": "code",
      "metadata": {
        "id": "luJ6Pf3uHHVa",
        "colab_type": "code",
        "colab": {
          "base_uri": "https://localhost:8080/",
          "height": 34
        },
        "outputId": "94e1a2fc-c925-4439-b171-b137221c5311"
      },
      "source": [
        "# Total other purchase\n",
        "other_total_purchase = round(other_purchase_data['Price'].sum(),2)\n",
        "other_total_purchase"
      ],
      "execution_count": 35,
      "outputs": [
        {
          "output_type": "execute_result",
          "data": {
            "text/plain": [
              "50.19"
            ]
          },
          "metadata": {
            "tags": []
          },
          "execution_count": 35
        }
      ]
    },
    {
      "cell_type": "code",
      "metadata": {
        "id": "AZaACdmtHHVb",
        "colab_type": "code",
        "colab": {
          "base_uri": "https://localhost:8080/",
          "height": 34
        },
        "outputId": "36b27610-75f5-44fe-f15b-72a4792c3979"
      },
      "source": [
        "# Average purchase total per person by others\n",
        "other_avg_purchase = round(other_total_purchase/other_players,2)\n",
        "other_avg_purchase"
      ],
      "execution_count": 36,
      "outputs": [
        {
          "output_type": "execute_result",
          "data": {
            "text/plain": [
              "4.56"
            ]
          },
          "metadata": {
            "tags": []
          },
          "execution_count": 36
        }
      ]
    },
    {
      "cell_type": "code",
      "metadata": {
        "id": "2aiNvVvtHHVd",
        "colab_type": "code",
        "colab": {
          "base_uri": "https://localhost:8080/",
          "height": 142
        },
        "outputId": "8342199d-cb65-4412-a4a5-60a50dc887cb"
      },
      "source": [
        "purchase_analysis_gender_df = pd.DataFrame({\n",
        "    'Gender': ['Female', 'Male', 'Other/Non-Disclosed'],\n",
        "    'Purchase Count': [female_purchase, male_purchase, other_purchase],\n",
        "    'Average Purchase Price': [female_mean_price, male_mean_price, other_mean_price],\n",
        "    'Total Purchase Value': [female_total_purchase, male_total_purchase, other_total_purchase],\n",
        "    'Avg Total Purchase per Person': [female_avg_purchase, male_avg_purchase, other_avg_purchase]\n",
        "})\n",
        "purchase_analysis_gender_df['Average Purchase Price'] = purchase_analysis_gender_df['Average Purchase Price'].map('${:.2f}'.format)\n",
        "purchase_analysis_gender_df['Total Purchase Value'] = purchase_analysis_gender_df['Total Purchase Value'].map('${:.2f}'.format)\n",
        "purchase_analysis_gender_df['Avg Total Purchase per Person'] = purchase_analysis_gender_df['Avg Total Purchase per Person'].map('${:.2f}'.format)\n",
        "purchase_analysis_gender_df = purchase_analysis_gender_df.set_index('Gender')\n",
        "purchase_analysis_gender_df.index.name = None\n",
        "purchase_analysis_gender_df"
      ],
      "execution_count": 37,
      "outputs": [
        {
          "output_type": "execute_result",
          "data": {
            "text/html": [
              "<div>\n",
              "<style scoped>\n",
              "    .dataframe tbody tr th:only-of-type {\n",
              "        vertical-align: middle;\n",
              "    }\n",
              "\n",
              "    .dataframe tbody tr th {\n",
              "        vertical-align: top;\n",
              "    }\n",
              "\n",
              "    .dataframe thead th {\n",
              "        text-align: right;\n",
              "    }\n",
              "</style>\n",
              "<table border=\"1\" class=\"dataframe\">\n",
              "  <thead>\n",
              "    <tr style=\"text-align: right;\">\n",
              "      <th></th>\n",
              "      <th>Purchase Count</th>\n",
              "      <th>Average Purchase Price</th>\n",
              "      <th>Total Purchase Value</th>\n",
              "      <th>Avg Total Purchase per Person</th>\n",
              "    </tr>\n",
              "  </thead>\n",
              "  <tbody>\n",
              "    <tr>\n",
              "      <th>Female</th>\n",
              "      <td>113</td>\n",
              "      <td>$3.20</td>\n",
              "      <td>$361.94</td>\n",
              "      <td>$4.47</td>\n",
              "    </tr>\n",
              "    <tr>\n",
              "      <th>Male</th>\n",
              "      <td>652</td>\n",
              "      <td>$3.02</td>\n",
              "      <td>$1967.64</td>\n",
              "      <td>$4.07</td>\n",
              "    </tr>\n",
              "    <tr>\n",
              "      <th>Other/Non-Disclosed</th>\n",
              "      <td>15</td>\n",
              "      <td>$3.35</td>\n",
              "      <td>$50.19</td>\n",
              "      <td>$4.56</td>\n",
              "    </tr>\n",
              "  </tbody>\n",
              "</table>\n",
              "</div>"
            ],
            "text/plain": [
              "                     Purchase Count  ... Avg Total Purchase per Person\n",
              "Female                          113  ...                         $4.47\n",
              "Male                            652  ...                         $4.07\n",
              "Other/Non-Disclosed              15  ...                         $4.56\n",
              "\n",
              "[3 rows x 4 columns]"
            ]
          },
          "metadata": {
            "tags": []
          },
          "execution_count": 37
        }
      ]
    },
    {
      "cell_type": "markdown",
      "metadata": {
        "id": "uWaWawlPHHVf",
        "colab_type": "text"
      },
      "source": [
        "### Result Age Demographics\n",
        "* Establish bins for ages\n",
        "* Categorize the existing players using the age bins. Hint: use pd.cut()\n",
        "* Calculate the numbers and percentages by age group\n",
        "* Create a summary data frame to hold the results\n",
        "* Optional: round the percentage column to two decimal points\n",
        "* Display Age Demographics Table\n",
        "-----------"
      ]
    },
    {
      "cell_type": "code",
      "metadata": {
        "scrolled": false,
        "id": "AZbJGNjLHHVf",
        "colab_type": "code",
        "colab": {
          "base_uri": "https://localhost:8080/",
          "height": 34
        },
        "outputId": "66575f6c-0734-4de2-bd62-db62fee32d84"
      },
      "source": [
        "# Get min and max age value\n",
        "purchase_data['Age'].max()"
      ],
      "execution_count": 38,
      "outputs": [
        {
          "output_type": "execute_result",
          "data": {
            "text/plain": [
              "45"
            ]
          },
          "metadata": {
            "tags": []
          },
          "execution_count": 38
        }
      ]
    },
    {
      "cell_type": "code",
      "metadata": {
        "scrolled": true,
        "id": "mZgbx1sTHHVh",
        "colab_type": "code",
        "colab": {
          "base_uri": "https://localhost:8080/",
          "height": 34
        },
        "outputId": "2e90a07a-cd1e-4cca-c051-6406404ceac4"
      },
      "source": [
        "purchase_data['Age'].min()"
      ],
      "execution_count": 39,
      "outputs": [
        {
          "output_type": "execute_result",
          "data": {
            "text/plain": [
              "7"
            ]
          },
          "metadata": {
            "tags": []
          },
          "execution_count": 39
        }
      ]
    },
    {
      "cell_type": "code",
      "metadata": {
        "id": "ve9BMIgnHHVi",
        "colab_type": "code",
        "colab": {
          "base_uri": "https://localhost:8080/",
          "height": 255
        },
        "outputId": "bc9b07ba-c55b-414e-ae6e-77e4b87ed0ab"
      },
      "source": [
        "age_bins = [0,9, 14, 19, 24, 29, 34, 39, 45]\n",
        "age_labels = ['<10', '10-14', '15-19', '20-24', '25-29', '30-34', '35-39', '40+']\n",
        "pd.cut(purchase_data['Age'], age_bins, include_lowest=False, duplicates='drop')"
      ],
      "execution_count": 40,
      "outputs": [
        {
          "output_type": "execute_result",
          "data": {
            "text/plain": [
              "0      (19, 24]\n",
              "1      (39, 45]\n",
              "2      (19, 24]\n",
              "3      (19, 24]\n",
              "4      (19, 24]\n",
              "         ...   \n",
              "775    (19, 24]\n",
              "776    (19, 24]\n",
              "777    (19, 24]\n",
              "778      (0, 9]\n",
              "779    (19, 24]\n",
              "Name: Age, Length: 780, dtype: category\n",
              "Categories (8, interval[int64]): [(0, 9] < (9, 14] < (14, 19] < (19, 24] < (24, 29] < (29, 34] <\n",
              "                                  (34, 39] < (39, 45]]"
            ]
          },
          "metadata": {
            "tags": []
          },
          "execution_count": 40
        }
      ]
    },
    {
      "cell_type": "code",
      "metadata": {
        "id": "OfsSEjreHHVk",
        "colab_type": "code",
        "colab": {}
      },
      "source": [
        "new_purchase_data = purchase_data\n",
        "new_purchase_data['Age Range'] = pd.cut(purchase_data['Age'], age_bins, labels=age_labels, include_lowest=False, duplicates='drop')"
      ],
      "execution_count": 0,
      "outputs": []
    },
    {
      "cell_type": "code",
      "metadata": {
        "scrolled": true,
        "id": "FJuUfmLuHHVm",
        "colab_type": "code",
        "colab": {
          "base_uri": "https://localhost:8080/",
          "height": 297
        },
        "outputId": "94451ca7-4ca9-47cd-95c6-8d2e41c7b0b2"
      },
      "source": [
        "total_grouped_df = new_purchase_data.groupby(['Age Range'])\n",
        "total_grouped_df = total_grouped_df.agg({ 'SN': 'nunique' })\n",
        "total_grouped_df = total_grouped_df.reset_index()\n",
        "\n",
        "age_demo_df = pd.DataFrame(total_grouped_df)\n",
        "age_demo_df['Percentage of Players'] = age_demo_df.apply(lambda row: (row[1]/number_of_players)*100, axis=1)\n",
        "age_demo_df['Percentage of Players'] = age_demo_df['Percentage of Players'].map('{:.2f}%'.format)\n",
        "age_demo_df = age_demo_df.rename(columns={\n",
        "    'SN': 'Total Count'\n",
        "})\n",
        "age_demo_df = age_demo_df.set_index('Age Range')\n",
        "age_demo_df.index.name = None\n",
        "age_demo_df"
      ],
      "execution_count": 42,
      "outputs": [
        {
          "output_type": "execute_result",
          "data": {
            "text/html": [
              "<div>\n",
              "<style scoped>\n",
              "    .dataframe tbody tr th:only-of-type {\n",
              "        vertical-align: middle;\n",
              "    }\n",
              "\n",
              "    .dataframe tbody tr th {\n",
              "        vertical-align: top;\n",
              "    }\n",
              "\n",
              "    .dataframe thead th {\n",
              "        text-align: right;\n",
              "    }\n",
              "</style>\n",
              "<table border=\"1\" class=\"dataframe\">\n",
              "  <thead>\n",
              "    <tr style=\"text-align: right;\">\n",
              "      <th></th>\n",
              "      <th>Total Count</th>\n",
              "      <th>Percentage of Players</th>\n",
              "    </tr>\n",
              "  </thead>\n",
              "  <tbody>\n",
              "    <tr>\n",
              "      <th>&lt;10</th>\n",
              "      <td>17</td>\n",
              "      <td>2.95%</td>\n",
              "    </tr>\n",
              "    <tr>\n",
              "      <th>10-14</th>\n",
              "      <td>22</td>\n",
              "      <td>3.82%</td>\n",
              "    </tr>\n",
              "    <tr>\n",
              "      <th>15-19</th>\n",
              "      <td>107</td>\n",
              "      <td>18.58%</td>\n",
              "    </tr>\n",
              "    <tr>\n",
              "      <th>20-24</th>\n",
              "      <td>258</td>\n",
              "      <td>44.79%</td>\n",
              "    </tr>\n",
              "    <tr>\n",
              "      <th>25-29</th>\n",
              "      <td>77</td>\n",
              "      <td>13.37%</td>\n",
              "    </tr>\n",
              "    <tr>\n",
              "      <th>30-34</th>\n",
              "      <td>52</td>\n",
              "      <td>9.03%</td>\n",
              "    </tr>\n",
              "    <tr>\n",
              "      <th>35-39</th>\n",
              "      <td>31</td>\n",
              "      <td>5.38%</td>\n",
              "    </tr>\n",
              "    <tr>\n",
              "      <th>40+</th>\n",
              "      <td>12</td>\n",
              "      <td>2.08%</td>\n",
              "    </tr>\n",
              "  </tbody>\n",
              "</table>\n",
              "</div>"
            ],
            "text/plain": [
              "       Total Count Percentage of Players\n",
              "<10             17                 2.95%\n",
              "10-14           22                 3.82%\n",
              "15-19          107                18.58%\n",
              "20-24          258                44.79%\n",
              "25-29           77                13.37%\n",
              "30-34           52                 9.03%\n",
              "35-39           31                 5.38%\n",
              "40+             12                 2.08%"
            ]
          },
          "metadata": {
            "tags": []
          },
          "execution_count": 42
        }
      ]
    },
    {
      "cell_type": "markdown",
      "metadata": {
        "id": "9wh3H1uQHHVo",
        "colab_type": "text"
      },
      "source": [
        "### Result Purchasing Analysis (Age)\n",
        "\n",
        "* The below each broken into bins of 4 years (i.e. &lt;10, 10-14, 15-19, etc.)\n",
        "  * Purchase Count\n",
        "  * Average Purchase Price\n",
        "  * Total Purchase Value\n",
        "  * Average Purchase Total per Person by Age Group\n",
        "----------"
      ]
    },
    {
      "cell_type": "code",
      "metadata": {
        "id": "H8FlHGZuHHVo",
        "colab_type": "code",
        "colab": {}
      },
      "source": [
        "age_bins = [0,9, 14, 19, 24, 29, 34, 39, 45]\n",
        "age_labels = ['<10', '10-14', '15-19', '20-24', '25-29', '30-34', '35-39', '40+']\n",
        "pd.cut(purchase_data['Age'], age_bins, include_lowest=False, duplicates='drop')\n",
        "new_purchase_data = purchase_data\n",
        "new_purchase_data['Age Range'] = pd.cut(purchase_data['Age'], age_bins, labels=age_labels, include_lowest=False, duplicates='drop')"
      ],
      "execution_count": 0,
      "outputs": []
    },
    {
      "cell_type": "code",
      "metadata": {
        "id": "oT70acReHHVp",
        "colab_type": "code",
        "colab": {
          "base_uri": "https://localhost:8080/",
          "height": 297
        },
        "outputId": "b5337c6a-90a4-44ff-d60e-58e175ed45fe"
      },
      "source": [
        "purchas_analysis_grouped = new_purchase_data.groupby(['Age Range'])\n",
        "purchas_analysis_grouped = purchas_analysis_grouped.agg({\n",
        "    'Purchase ID': ['count'],\n",
        "    'Price': ['mean', 'sum'],\n",
        "    'SN': 'nunique'\n",
        "})\n",
        "purchas_analysis_grouped.columns = purchas_analysis_grouped.columns.droplevel(0)\n",
        "purchas_analysis_age_df = pd.DataFrame(purchas_analysis_grouped)\n",
        "purchas_analysis_age_df = purchas_analysis_age_df.rename(columns={\n",
        "    'count':'Purchase Count',\n",
        "    'mean': 'Average Purchase Price',\n",
        "    'sum': 'Total Purchase Value',\n",
        "    'nunique': 'AVG Total per Person By Age'\n",
        "})\n",
        "purchas_analysis_age_df['AVG Total per Person By Age'] = purchas_analysis_age_df.apply(lambda row: row['Total Purchase Value']/row['AVG Total per Person By Age'], axis=1)\n",
        "purchas_analysis_age_df['Average Purchase Price'] = purchas_analysis_age_df['Average Purchase Price'].map('${:.2f}'.format)\n",
        "purchas_analysis_age_df['Total Purchase Value'] = purchas_analysis_age_df['Total Purchase Value'].map('${:.2f}'.format)\n",
        "purchas_analysis_age_df['AVG Total per Person By Age'] = purchas_analysis_age_df['AVG Total per Person By Age'].map('${:.2f}'.format)\n",
        "purchas_analysis_age_df.index.name = None\n",
        "purchas_analysis_age_df"
      ],
      "execution_count": 44,
      "outputs": [
        {
          "output_type": "execute_result",
          "data": {
            "text/html": [
              "<div>\n",
              "<style scoped>\n",
              "    .dataframe tbody tr th:only-of-type {\n",
              "        vertical-align: middle;\n",
              "    }\n",
              "\n",
              "    .dataframe tbody tr th {\n",
              "        vertical-align: top;\n",
              "    }\n",
              "\n",
              "    .dataframe thead th {\n",
              "        text-align: right;\n",
              "    }\n",
              "</style>\n",
              "<table border=\"1\" class=\"dataframe\">\n",
              "  <thead>\n",
              "    <tr style=\"text-align: right;\">\n",
              "      <th></th>\n",
              "      <th>Purchase Count</th>\n",
              "      <th>Average Purchase Price</th>\n",
              "      <th>Total Purchase Value</th>\n",
              "      <th>AVG Total per Person By Age</th>\n",
              "    </tr>\n",
              "  </thead>\n",
              "  <tbody>\n",
              "    <tr>\n",
              "      <th>&lt;10</th>\n",
              "      <td>23</td>\n",
              "      <td>$3.35</td>\n",
              "      <td>$77.13</td>\n",
              "      <td>$4.54</td>\n",
              "    </tr>\n",
              "    <tr>\n",
              "      <th>10-14</th>\n",
              "      <td>28</td>\n",
              "      <td>$2.96</td>\n",
              "      <td>$82.78</td>\n",
              "      <td>$3.76</td>\n",
              "    </tr>\n",
              "    <tr>\n",
              "      <th>15-19</th>\n",
              "      <td>136</td>\n",
              "      <td>$3.04</td>\n",
              "      <td>$412.89</td>\n",
              "      <td>$3.86</td>\n",
              "    </tr>\n",
              "    <tr>\n",
              "      <th>20-24</th>\n",
              "      <td>365</td>\n",
              "      <td>$3.05</td>\n",
              "      <td>$1114.06</td>\n",
              "      <td>$4.32</td>\n",
              "    </tr>\n",
              "    <tr>\n",
              "      <th>25-29</th>\n",
              "      <td>101</td>\n",
              "      <td>$2.90</td>\n",
              "      <td>$293.00</td>\n",
              "      <td>$3.81</td>\n",
              "    </tr>\n",
              "    <tr>\n",
              "      <th>30-34</th>\n",
              "      <td>73</td>\n",
              "      <td>$2.93</td>\n",
              "      <td>$214.00</td>\n",
              "      <td>$4.12</td>\n",
              "    </tr>\n",
              "    <tr>\n",
              "      <th>35-39</th>\n",
              "      <td>41</td>\n",
              "      <td>$3.60</td>\n",
              "      <td>$147.67</td>\n",
              "      <td>$4.76</td>\n",
              "    </tr>\n",
              "    <tr>\n",
              "      <th>40+</th>\n",
              "      <td>13</td>\n",
              "      <td>$2.94</td>\n",
              "      <td>$38.24</td>\n",
              "      <td>$3.19</td>\n",
              "    </tr>\n",
              "  </tbody>\n",
              "</table>\n",
              "</div>"
            ],
            "text/plain": [
              "       Purchase Count  ... AVG Total per Person By Age\n",
              "<10                23  ...                       $4.54\n",
              "10-14              28  ...                       $3.76\n",
              "15-19             136  ...                       $3.86\n",
              "20-24             365  ...                       $4.32\n",
              "25-29             101  ...                       $3.81\n",
              "30-34              73  ...                       $4.12\n",
              "35-39              41  ...                       $4.76\n",
              "40+                13  ...                       $3.19\n",
              "\n",
              "[8 rows x 4 columns]"
            ]
          },
          "metadata": {
            "tags": []
          },
          "execution_count": 44
        }
      ]
    },
    {
      "cell_type": "markdown",
      "metadata": {
        "id": "y3pYuHARHHVs",
        "colab_type": "text"
      },
      "source": [
        "### Result Top Spenders\n",
        "\n",
        "* Identify the the top 5 spenders in the game by total purchase value, then list (in a table):\n",
        "  * SN\n",
        "  * Purchase Count\n",
        "  * Average Purchase Price\n",
        "  * Total Purchase Value\n",
        " ----------"
      ]
    },
    {
      "cell_type": "code",
      "metadata": {
        "id": "Ra372D0qHHVs",
        "colab_type": "code",
        "colab": {
          "base_uri": "https://localhost:8080/",
          "height": 204
        },
        "outputId": "a7370c14-b660-4826-d605-110c38c2edb7"
      },
      "source": [
        "top_spenders_grouped = purchase_data.groupby('SN')\n",
        "top_spenders_grouped = top_spenders_grouped.agg({\n",
        "    'SN': 'count',\n",
        "    'Price': ['mean', 'sum'],\n",
        "})\n",
        "top_spenders_grouped.columns = top_spenders_grouped.columns.droplevel(0)\n",
        "top_spenders_grouped\n",
        "top_spenders_df = pd.DataFrame(top_spenders_grouped)\n",
        "top_spenders_df = top_spenders_df.sort_values('sum', ascending=False)\n",
        "top_spenders_df = top_spenders_df.rename(columns={\n",
        "    'count': 'Purchase Count',\n",
        "    'mean': 'Average Purchase Price',\n",
        "    'sum': 'Total Purchase Value'\n",
        "})\n",
        "top_spenders_df['Average Purchase Price'] = top_spenders_df['Average Purchase Price'].map('${:.2f}'.format)\n",
        "top_spenders_df['Total Purchase Value'] = top_spenders_df['Total Purchase Value'].map('${:.2f}'.format)\n",
        "top_spenders_df.index.name = None\n",
        "top_spenders_df.head()"
      ],
      "execution_count": 45,
      "outputs": [
        {
          "output_type": "execute_result",
          "data": {
            "text/html": [
              "<div>\n",
              "<style scoped>\n",
              "    .dataframe tbody tr th:only-of-type {\n",
              "        vertical-align: middle;\n",
              "    }\n",
              "\n",
              "    .dataframe tbody tr th {\n",
              "        vertical-align: top;\n",
              "    }\n",
              "\n",
              "    .dataframe thead th {\n",
              "        text-align: right;\n",
              "    }\n",
              "</style>\n",
              "<table border=\"1\" class=\"dataframe\">\n",
              "  <thead>\n",
              "    <tr style=\"text-align: right;\">\n",
              "      <th></th>\n",
              "      <th>Purchase Count</th>\n",
              "      <th>Average Purchase Price</th>\n",
              "      <th>Total Purchase Value</th>\n",
              "    </tr>\n",
              "  </thead>\n",
              "  <tbody>\n",
              "    <tr>\n",
              "      <th>Lisosia93</th>\n",
              "      <td>5</td>\n",
              "      <td>$3.79</td>\n",
              "      <td>$18.96</td>\n",
              "    </tr>\n",
              "    <tr>\n",
              "      <th>Idastidru52</th>\n",
              "      <td>4</td>\n",
              "      <td>$3.86</td>\n",
              "      <td>$15.45</td>\n",
              "    </tr>\n",
              "    <tr>\n",
              "      <th>Chamjask73</th>\n",
              "      <td>3</td>\n",
              "      <td>$4.61</td>\n",
              "      <td>$13.83</td>\n",
              "    </tr>\n",
              "    <tr>\n",
              "      <th>Iral74</th>\n",
              "      <td>4</td>\n",
              "      <td>$3.40</td>\n",
              "      <td>$13.62</td>\n",
              "    </tr>\n",
              "    <tr>\n",
              "      <th>Iskadarya95</th>\n",
              "      <td>3</td>\n",
              "      <td>$4.37</td>\n",
              "      <td>$13.10</td>\n",
              "    </tr>\n",
              "  </tbody>\n",
              "</table>\n",
              "</div>"
            ],
            "text/plain": [
              "             Purchase Count Average Purchase Price Total Purchase Value\n",
              "Lisosia93                 5                  $3.79               $18.96\n",
              "Idastidru52               4                  $3.86               $15.45\n",
              "Chamjask73                3                  $4.61               $13.83\n",
              "Iral74                    4                  $3.40               $13.62\n",
              "Iskadarya95               3                  $4.37               $13.10"
            ]
          },
          "metadata": {
            "tags": []
          },
          "execution_count": 45
        }
      ]
    },
    {
      "cell_type": "markdown",
      "metadata": {
        "id": "tLtv1grYHHVu",
        "colab_type": "text"
      },
      "source": [
        "### Result Most Popular Items\n",
        "\n",
        "* Identify the 5 most popular items by purchase count, then list (in a table):\n",
        "  * Item ID\n",
        "  * Item Name\n",
        "  * Purchase Count\n",
        "  * Item Price\n",
        "  * Total Purchase Value\n",
        " ---------"
      ]
    },
    {
      "cell_type": "code",
      "metadata": {
        "id": "zwrbybA-HHVu",
        "colab_type": "code",
        "colab": {
          "base_uri": "https://localhost:8080/",
          "height": 235
        },
        "outputId": "8f1c915f-f8b1-4403-cc91-71e303657917"
      },
      "source": [
        "most_popular_item_grouped = purchase_data.groupby(['Item ID','Item Name'])\n",
        "most_popular_item_grouped = most_popular_item_grouped.agg({\n",
        "    'Item ID': 'count',\n",
        "    'Price': 'sum'\n",
        "})\n",
        "most_popular_item_df = most_popular_item_grouped\n",
        "most_popular_item_grouped = most_popular_item_grouped.sort_values('Price', ascending=False)\n",
        "most_popular_item_df['Item Price'] = most_popular_item_df.apply(lambda row: row[1]/row[0], axis=1)\n",
        "most_popular_item_df = most_popular_item_df.rename(columns={\n",
        "    'Item ID': 'Purchase Count',\n",
        "    'Price': 'Total Purchase Value'\n",
        "}) \n",
        "most_profitable_item_df = most_popular_item_df\n",
        "most_popular_item_df = most_popular_item_df[['Purchase Count', 'Item Price', 'Total Purchase Value']]\n",
        "most_popular_item_df['Item Price'] = most_popular_item_df['Item Price'].map('${:.2f}'.format)\n",
        "most_popular_item_df['Total Purchase Value'] = most_popular_item_df['Total Purchase Value'].map('${:.2f}'.format)\n",
        "most_popular_item_df = most_popular_item_df.sort_values('Purchase Count', ascending=False)\n",
        "most_popular_item_df.head()"
      ],
      "execution_count": 46,
      "outputs": [
        {
          "output_type": "execute_result",
          "data": {
            "text/html": [
              "<div>\n",
              "<style scoped>\n",
              "    .dataframe tbody tr th:only-of-type {\n",
              "        vertical-align: middle;\n",
              "    }\n",
              "\n",
              "    .dataframe tbody tr th {\n",
              "        vertical-align: top;\n",
              "    }\n",
              "\n",
              "    .dataframe thead th {\n",
              "        text-align: right;\n",
              "    }\n",
              "</style>\n",
              "<table border=\"1\" class=\"dataframe\">\n",
              "  <thead>\n",
              "    <tr style=\"text-align: right;\">\n",
              "      <th></th>\n",
              "      <th></th>\n",
              "      <th>Purchase Count</th>\n",
              "      <th>Item Price</th>\n",
              "      <th>Total Purchase Value</th>\n",
              "    </tr>\n",
              "    <tr>\n",
              "      <th>Item ID</th>\n",
              "      <th>Item Name</th>\n",
              "      <th></th>\n",
              "      <th></th>\n",
              "      <th></th>\n",
              "    </tr>\n",
              "  </thead>\n",
              "  <tbody>\n",
              "    <tr>\n",
              "      <th>92</th>\n",
              "      <th>Final Critic</th>\n",
              "      <td>13</td>\n",
              "      <td>$4.61</td>\n",
              "      <td>$59.99</td>\n",
              "    </tr>\n",
              "    <tr>\n",
              "      <th>178</th>\n",
              "      <th>Oathbreaker, Last Hope of the Breaking Storm</th>\n",
              "      <td>12</td>\n",
              "      <td>$4.23</td>\n",
              "      <td>$50.76</td>\n",
              "    </tr>\n",
              "    <tr>\n",
              "      <th>145</th>\n",
              "      <th>Fiery Glass Crusader</th>\n",
              "      <td>9</td>\n",
              "      <td>$4.58</td>\n",
              "      <td>$41.22</td>\n",
              "    </tr>\n",
              "    <tr>\n",
              "      <th>132</th>\n",
              "      <th>Persuasion</th>\n",
              "      <td>9</td>\n",
              "      <td>$3.22</td>\n",
              "      <td>$28.99</td>\n",
              "    </tr>\n",
              "    <tr>\n",
              "      <th>108</th>\n",
              "      <th>Extraction, Quickblade Of Trembling Hands</th>\n",
              "      <td>9</td>\n",
              "      <td>$3.53</td>\n",
              "      <td>$31.77</td>\n",
              "    </tr>\n",
              "  </tbody>\n",
              "</table>\n",
              "</div>"
            ],
            "text/plain": [
              "                                                      Purchase Count  ... Total Purchase Value\n",
              "Item ID Item Name                                                     ...                     \n",
              "92      Final Critic                                              13  ...               $59.99\n",
              "178     Oathbreaker, Last Hope of the Breaking Storm              12  ...               $50.76\n",
              "145     Fiery Glass Crusader                                       9  ...               $41.22\n",
              "132     Persuasion                                                 9  ...               $28.99\n",
              "108     Extraction, Quickblade Of Trembling Hands                  9  ...               $31.77\n",
              "\n",
              "[5 rows x 3 columns]"
            ]
          },
          "metadata": {
            "tags": []
          },
          "execution_count": 46
        }
      ]
    },
    {
      "cell_type": "markdown",
      "metadata": {
        "id": "-vN8ZzLLHHVv",
        "colab_type": "text"
      },
      "source": [
        "### Result Most Profitable Items\n",
        "\n",
        "* Identify the 5 most profitable items by total purchase value, then list (in a table):\n",
        "  * Item ID\n",
        "  * Item Name\n",
        "  * Purchase Count\n",
        "  * Item Price\n",
        "  * Total Purchase Value\n",
        " --------"
      ]
    },
    {
      "cell_type": "code",
      "metadata": {
        "id": "JxFeOJjtHHVw",
        "colab_type": "code",
        "colab": {
          "base_uri": "https://localhost:8080/",
          "height": 235
        },
        "outputId": "3b42e4da-cb6e-45b8-faae-3184d752b2a2"
      },
      "source": [
        "most_profitable_item_df = most_profitable_item_df[['Purchase Count', 'Item Price', 'Total Purchase Value']]\n",
        "most_profitable_item_df = most_profitable_item_df.sort_values('Total Purchase Value', ascending=False)\n",
        "most_profitable_item_df['Item Price'] = most_profitable_item_df['Item Price'].map('${:.2f}'.format)\n",
        "most_profitable_item_df['Total Purchase Value'] = most_profitable_item_df['Total Purchase Value'].map('${:.2f}'.format)\n",
        "most_profitable_item_df.head()"
      ],
      "execution_count": 47,
      "outputs": [
        {
          "output_type": "execute_result",
          "data": {
            "text/html": [
              "<div>\n",
              "<style scoped>\n",
              "    .dataframe tbody tr th:only-of-type {\n",
              "        vertical-align: middle;\n",
              "    }\n",
              "\n",
              "    .dataframe tbody tr th {\n",
              "        vertical-align: top;\n",
              "    }\n",
              "\n",
              "    .dataframe thead th {\n",
              "        text-align: right;\n",
              "    }\n",
              "</style>\n",
              "<table border=\"1\" class=\"dataframe\">\n",
              "  <thead>\n",
              "    <tr style=\"text-align: right;\">\n",
              "      <th></th>\n",
              "      <th></th>\n",
              "      <th>Purchase Count</th>\n",
              "      <th>Item Price</th>\n",
              "      <th>Total Purchase Value</th>\n",
              "    </tr>\n",
              "    <tr>\n",
              "      <th>Item ID</th>\n",
              "      <th>Item Name</th>\n",
              "      <th></th>\n",
              "      <th></th>\n",
              "      <th></th>\n",
              "    </tr>\n",
              "  </thead>\n",
              "  <tbody>\n",
              "    <tr>\n",
              "      <th>92</th>\n",
              "      <th>Final Critic</th>\n",
              "      <td>13</td>\n",
              "      <td>$4.61</td>\n",
              "      <td>$59.99</td>\n",
              "    </tr>\n",
              "    <tr>\n",
              "      <th>178</th>\n",
              "      <th>Oathbreaker, Last Hope of the Breaking Storm</th>\n",
              "      <td>12</td>\n",
              "      <td>$4.23</td>\n",
              "      <td>$50.76</td>\n",
              "    </tr>\n",
              "    <tr>\n",
              "      <th>82</th>\n",
              "      <th>Nirvana</th>\n",
              "      <td>9</td>\n",
              "      <td>$4.90</td>\n",
              "      <td>$44.10</td>\n",
              "    </tr>\n",
              "    <tr>\n",
              "      <th>145</th>\n",
              "      <th>Fiery Glass Crusader</th>\n",
              "      <td>9</td>\n",
              "      <td>$4.58</td>\n",
              "      <td>$41.22</td>\n",
              "    </tr>\n",
              "    <tr>\n",
              "      <th>103</th>\n",
              "      <th>Singed Scalpel</th>\n",
              "      <td>8</td>\n",
              "      <td>$4.35</td>\n",
              "      <td>$34.80</td>\n",
              "    </tr>\n",
              "  </tbody>\n",
              "</table>\n",
              "</div>"
            ],
            "text/plain": [
              "                                                      Purchase Count  ... Total Purchase Value\n",
              "Item ID Item Name                                                     ...                     \n",
              "92      Final Critic                                              13  ...               $59.99\n",
              "178     Oathbreaker, Last Hope of the Breaking Storm              12  ...               $50.76\n",
              "82      Nirvana                                                    9  ...               $44.10\n",
              "145     Fiery Glass Crusader                                       9  ...               $41.22\n",
              "103     Singed Scalpel                                             8  ...               $34.80\n",
              "\n",
              "[5 rows x 3 columns]"
            ]
          },
          "metadata": {
            "tags": []
          },
          "execution_count": 47
        }
      ]
    },
    {
      "cell_type": "markdown",
      "metadata": {
        "id": "yn77yBI8HHVy",
        "colab_type": "text"
      },
      "source": [
        "## Observable Trends\n",
        "\n",
        "### We have a considerable male population\n",
        "According to the results more than 80% of our players are males, this means that we should focus at least 20% of our efforts with campaigns, items and marketing to this population to satisfy their needs to continue scaling our game. We should remember the 80/20 pareto rule and understand that most of our revenue will come from them and this efforts must include our biggest changes.\n",
        "\n",
        "### Ages 15 to 24\n",
        "The data shows that our main player population has an age of 15 to 24 this could mean that they are more willing to spend since probably they still have economic support from their parents. We should consider a marketing campaign focus on highschool and university students with a back to school or student program to grow this market segment.\n",
        "\n",
        "### Item price for male population\n",
        "As we can see \\\\$4.47 is the average total purchase per male, so we can introduce items that range from \\\\$4.00 to \\\\$5.00 sepecific for the male gender, like aestehtics items with fire, spikes, and exaggerated names such as 'Critical Sword of Destiny' ,vanity items to change appearance such as 'Height, Muscle body, hairstyles and titles' and other types which focus on game experience ingame quests and more.\n"
      ]
    },
    {
      "cell_type": "code",
      "metadata": {
        "id": "QlOs8nijHHVy",
        "colab_type": "code",
        "colab": {}
      },
      "source": [
        ""
      ],
      "execution_count": 0,
      "outputs": []
    }
  ]
}